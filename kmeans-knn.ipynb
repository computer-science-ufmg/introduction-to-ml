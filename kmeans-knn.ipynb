{
 "cells": [
  {
   "cell_type": "code",
   "execution_count": 1,
   "id": "8b49b7d6",
   "metadata": {},
   "outputs": [],
   "source": [
    "from sklearn.datasets import load_iris\n",
    "import matplotlib.pyplot as plt\n",
    "import pandas as pd\n",
    "import numpy as np"
   ]
  },
  {
   "cell_type": "markdown",
   "id": "d6654c97",
   "metadata": {},
   "source": [
    "# Machine Learning\n",
    "\n",
    "## Introdução a Inteligência Artificial\n",
    "\n",
    "Aluno: Luiz Philippe Pereira Amaral"
   ]
  },
  {
   "cell_type": "markdown",
   "id": "1c931e6b",
   "metadata": {},
   "source": [
    "## Dataset"
   ]
  },
  {
   "cell_type": "code",
   "execution_count": 2,
   "id": "b1c66698",
   "metadata": {},
   "outputs": [],
   "source": [
    "iris = load_iris()\n",
    "df = pd.DataFrame({\n",
    "    'sepal length': iris.data[:, 0],\n",
    "    'sepal width': iris.data[:, 1],\n",
    "    'petal length': iris.data[:, 2],\n",
    "    'petal width': iris.data[:, 3],\n",
    "    'target': iris.target,\n",
    "    'target_name': [ iris.target_names[t] for t in iris.target ]\n",
    "})\n",
    "\n",
    "data_columns = ['sepal length', 'sepal width', 'petal length', 'petal width', 'target', 'target_name']\n",
    "data = df.to_numpy()[:, :-2]\n",
    "targets = df.to_numpy()[:, -2]"
   ]
  },
  {
   "cell_type": "code",
   "execution_count": 3,
   "id": "2e98d34f",
   "metadata": {},
   "outputs": [
    {
     "data": {
      "text/html": [
       "<div>\n",
       "<style scoped>\n",
       "    .dataframe tbody tr th:only-of-type {\n",
       "        vertical-align: middle;\n",
       "    }\n",
       "\n",
       "    .dataframe tbody tr th {\n",
       "        vertical-align: top;\n",
       "    }\n",
       "\n",
       "    .dataframe thead th {\n",
       "        text-align: right;\n",
       "    }\n",
       "</style>\n",
       "<table border=\"1\" class=\"dataframe\">\n",
       "  <thead>\n",
       "    <tr style=\"text-align: right;\">\n",
       "      <th></th>\n",
       "      <th>sepal length</th>\n",
       "      <th>sepal width</th>\n",
       "      <th>petal length</th>\n",
       "      <th>petal width</th>\n",
       "      <th>target</th>\n",
       "      <th>target_name</th>\n",
       "    </tr>\n",
       "  </thead>\n",
       "  <tbody>\n",
       "    <tr>\n",
       "      <th>0</th>\n",
       "      <td>5.1</td>\n",
       "      <td>3.5</td>\n",
       "      <td>1.4</td>\n",
       "      <td>0.2</td>\n",
       "      <td>0</td>\n",
       "      <td>setosa</td>\n",
       "    </tr>\n",
       "    <tr>\n",
       "      <th>1</th>\n",
       "      <td>4.9</td>\n",
       "      <td>3.0</td>\n",
       "      <td>1.4</td>\n",
       "      <td>0.2</td>\n",
       "      <td>0</td>\n",
       "      <td>setosa</td>\n",
       "    </tr>\n",
       "    <tr>\n",
       "      <th>2</th>\n",
       "      <td>4.7</td>\n",
       "      <td>3.2</td>\n",
       "      <td>1.3</td>\n",
       "      <td>0.2</td>\n",
       "      <td>0</td>\n",
       "      <td>setosa</td>\n",
       "    </tr>\n",
       "    <tr>\n",
       "      <th>3</th>\n",
       "      <td>4.6</td>\n",
       "      <td>3.1</td>\n",
       "      <td>1.5</td>\n",
       "      <td>0.2</td>\n",
       "      <td>0</td>\n",
       "      <td>setosa</td>\n",
       "    </tr>\n",
       "    <tr>\n",
       "      <th>4</th>\n",
       "      <td>5.0</td>\n",
       "      <td>3.6</td>\n",
       "      <td>1.4</td>\n",
       "      <td>0.2</td>\n",
       "      <td>0</td>\n",
       "      <td>setosa</td>\n",
       "    </tr>\n",
       "    <tr>\n",
       "      <th>...</th>\n",
       "      <td>...</td>\n",
       "      <td>...</td>\n",
       "      <td>...</td>\n",
       "      <td>...</td>\n",
       "      <td>...</td>\n",
       "      <td>...</td>\n",
       "    </tr>\n",
       "    <tr>\n",
       "      <th>145</th>\n",
       "      <td>6.7</td>\n",
       "      <td>3.0</td>\n",
       "      <td>5.2</td>\n",
       "      <td>2.3</td>\n",
       "      <td>2</td>\n",
       "      <td>virginica</td>\n",
       "    </tr>\n",
       "    <tr>\n",
       "      <th>146</th>\n",
       "      <td>6.3</td>\n",
       "      <td>2.5</td>\n",
       "      <td>5.0</td>\n",
       "      <td>1.9</td>\n",
       "      <td>2</td>\n",
       "      <td>virginica</td>\n",
       "    </tr>\n",
       "    <tr>\n",
       "      <th>147</th>\n",
       "      <td>6.5</td>\n",
       "      <td>3.0</td>\n",
       "      <td>5.2</td>\n",
       "      <td>2.0</td>\n",
       "      <td>2</td>\n",
       "      <td>virginica</td>\n",
       "    </tr>\n",
       "    <tr>\n",
       "      <th>148</th>\n",
       "      <td>6.2</td>\n",
       "      <td>3.4</td>\n",
       "      <td>5.4</td>\n",
       "      <td>2.3</td>\n",
       "      <td>2</td>\n",
       "      <td>virginica</td>\n",
       "    </tr>\n",
       "    <tr>\n",
       "      <th>149</th>\n",
       "      <td>5.9</td>\n",
       "      <td>3.0</td>\n",
       "      <td>5.1</td>\n",
       "      <td>1.8</td>\n",
       "      <td>2</td>\n",
       "      <td>virginica</td>\n",
       "    </tr>\n",
       "  </tbody>\n",
       "</table>\n",
       "<p>150 rows × 6 columns</p>\n",
       "</div>"
      ],
      "text/plain": [
       "     sepal length  sepal width  petal length  petal width  target target_name\n",
       "0             5.1          3.5           1.4          0.2       0      setosa\n",
       "1             4.9          3.0           1.4          0.2       0      setosa\n",
       "2             4.7          3.2           1.3          0.2       0      setosa\n",
       "3             4.6          3.1           1.5          0.2       0      setosa\n",
       "4             5.0          3.6           1.4          0.2       0      setosa\n",
       "..            ...          ...           ...          ...     ...         ...\n",
       "145           6.7          3.0           5.2          2.3       2   virginica\n",
       "146           6.3          2.5           5.0          1.9       2   virginica\n",
       "147           6.5          3.0           5.2          2.0       2   virginica\n",
       "148           6.2          3.4           5.4          2.3       2   virginica\n",
       "149           5.9          3.0           5.1          1.8       2   virginica\n",
       "\n",
       "[150 rows x 6 columns]"
      ]
     },
     "execution_count": 3,
     "metadata": {},
     "output_type": "execute_result"
    }
   ],
   "source": [
    "df"
   ]
  },
  {
   "cell_type": "markdown",
   "id": "f09beb21",
   "metadata": {},
   "source": [
    "## Utils"
   ]
  },
  {
   "cell_type": "code",
   "execution_count": 4,
   "id": "9b4ea91f",
   "metadata": {},
   "outputs": [],
   "source": [
    "def euclidean_distance(arr1, arr2):\n",
    "    d = 0\n",
    "    for a, b in zip(arr1, arr2):\n",
    "        d += (a - b)**2\n",
    "    \n",
    "    return d**(1/2)\n",
    "\n",
    "def get_average(ndarr):\n",
    "    rows, columns = ndarr.shape\n",
    "    res = np.zeros(columns, dtype=float)\n",
    "    for i in range(rows):\n",
    "        res = (res + ndarr[0])\n",
    "            \n",
    "    res /= rows\n",
    "        \n",
    "    return res\n",
    "\n",
    "def plot_classification(df, columns, targets=[], colors=['#744CEB', '#34EB41', '#EBA363']):\n",
    "    plt.xlabel(columns[0])\n",
    "    plt.ylabel(columns[1])\n",
    "    samples = len(df.index)\n",
    "    \n",
    "    c = 'black'\n",
    "    if len(targets) == samples:\n",
    "        c = [ colors[targets[i]] for i in range(samples) ]\n",
    "    \n",
    "    plt.scatter(x = df[columns[0]], y = df[columns[1]], c = c)"
   ]
  },
  {
   "cell_type": "markdown",
   "id": "f80f6735",
   "metadata": {},
   "source": [
    "## Aprendizado não supervisionado: K-means"
   ]
  },
  {
   "cell_type": "markdown",
   "id": "5d5ec8c2",
   "metadata": {},
   "source": [
    "### Métodos intermediários"
   ]
  },
  {
   "cell_type": "code",
   "execution_count": 5,
   "id": "8e109fb3",
   "metadata": {},
   "outputs": [],
   "source": [
    "def find_centroids(data, classifications, k):\n",
    "    groups = [ data[np.where(classifications == i)] for i in range(k) ]\n",
    "    centroids = np.ndarray((k, data.shape[1]))\n",
    "    for i in range(k):\n",
    "        centroids[i] = get_average(groups[i])\n",
    "    return centroids\n",
    "\n",
    "def get_classifications(data, centroids, k):\n",
    "    classifications = np.zeros(data.shape[0], dtype=int)\n",
    "    \n",
    "    for i in range(data.shape[0]):\n",
    "            distance = np.zeros(k)\n",
    "            for j in range(k):\n",
    "                distance[j] = euclidean_distance(data[i], centroids[j])\n",
    "\n",
    "            classifications[i] = distance.tolist().index(distance.min())\n",
    "            \n",
    "    return classifications"
   ]
  },
  {
   "cell_type": "markdown",
   "id": "37af9a8d",
   "metadata": {},
   "source": [
    "### Implementação"
   ]
  },
  {
   "cell_type": "code",
   "execution_count": 6,
   "id": "4dffa4b6",
   "metadata": {},
   "outputs": [],
   "source": [
    "def kmeans(k, data):\n",
    "    samples, features = data.shape\n",
    "    idx = np.random.randint(samples, size=k)\n",
    "    centroids = data[idx, :]\n",
    "    \n",
    "    classifications = np.zeros(samples, dtype=int)\n",
    "    \n",
    "    delta = float('inf')\n",
    "    \n",
    "    while not np.isclose(delta, 0):\n",
    "        classifications = get_classifications(data, centroids, k)\n",
    "        new_centroids = find_centroids(data, classifications, k)\n",
    "        delta = np.sum([ euclidean_distance(centroids[i], new_centroids[i]) for i in range(k) ])\n",
    "        centroids = new_centroids\n",
    "    \n",
    "    \n",
    "    classifications = get_classifications(data, centroids, k)\n",
    "    return (centroids, classifications)"
   ]
  },
  {
   "cell_type": "markdown",
   "id": "9287f34f",
   "metadata": {},
   "source": [
    "### Resultados"
   ]
  },
  {
   "cell_type": "markdown",
   "id": "48577293",
   "metadata": {},
   "source": [
    "#### K = 2"
   ]
  },
  {
   "cell_type": "code",
   "execution_count": 7,
   "id": "cc5bc7fa",
   "metadata": {},
   "outputs": [
    {
     "name": "stdout",
     "output_type": "stream",
     "text": [
      "[[5.1 3.5 1.4 0.2]\n",
      " [7.  3.2 4.7 1.4]]\n"
     ]
    }
   ],
   "source": [
    "centroids, classifications = kmeans(2, data)\n",
    "print(centroids)"
   ]
  },
  {
   "cell_type": "code",
   "execution_count": 8,
   "id": "1f82e807",
   "metadata": {},
   "outputs": [
    {
     "data": {
      "image/png": "[encoded data removed]",
      "text/plain": [
       "<Figure size 1008x288 with 2 Axes>"
      ]
     },
     "metadata": {
      "needs_background": "light"
     },
     "output_type": "display_data"
    }
   ],
   "source": [
    "columns = ['petal length', 'sepal width']\n",
    "plt.figure(figsize=(14, 4))\n",
    "\n",
    "plt.subplot(1, 2, 1)\n",
    "plt.title('Real clusterization of samples')\n",
    "plot_classification(df, columns, targets)\n",
    "\n",
    "plt.subplot(1, 2, 2)\n",
    "plt.title('Suggested clusterization')\n",
    "plot_classification(df, columns, classifications)\n",
    "\n",
    "plt.show()"
   ]
  },
  {
   "cell_type": "markdown",
   "id": "a444c56a",
   "metadata": {},
   "source": [
    "#### K = 3"
   ]
  },
  {
   "cell_type": "code",
   "execution_count": 19,
   "id": "ffcdf6ad",
   "metadata": {},
   "outputs": [
    {
     "name": "stdout",
     "output_type": "stream",
     "text": [
      "[[5.1 3.5 1.4 0.2]\n",
      " [7.  3.2 4.7 1.4]\n",
      " [6.3 3.3 6.  2.5]]\n"
     ]
    }
   ],
   "source": [
    "centroids, classifications = kmeans(3, data)\n",
    "print(centroids)"
   ]
  },
  {
   "cell_type": "code",
   "execution_count": 20,
   "id": "dc73c55e",
   "metadata": {},
   "outputs": [
    {
     "data": {
      "image/png": "[encoded data removed]",
      "text/plain": [
       "<Figure size 1008x288 with 2 Axes>"
      ]
     },
     "metadata": {
      "needs_background": "light"
     },
     "output_type": "display_data"
    }
   ],
   "source": [
    "columns = ['petal length', 'sepal width']\n",
    "plt.figure(figsize=(14, 4))\n",
    "\n",
    "plt.subplot(1, 2, 1)\n",
    "plt.title('Real clusterization of samples')\n",
    "plot_classification(df, columns, targets)\n",
    "\n",
    "plt.subplot(1, 2, 2)\n",
    "plt.title('Suggested clusterization')\n",
    "plot_classification(df, columns, classifications)\n",
    "\n",
    "plt.show()"
   ]
  },
  {
   "cell_type": "markdown",
   "id": "4509c17d",
   "metadata": {},
   "source": [
    "## Aprendizado supervisionado: KNN"
   ]
  },
  {
   "cell_type": "markdown",
   "id": "3e5b43dd",
   "metadata": {},
   "source": [
    "### Conjuntos de treino e teste"
   ]
  },
  {
   "cell_type": "code",
   "execution_count": 49,
   "id": "8e71c32d",
   "metadata": {},
   "outputs": [
    {
     "name": "stdout",
     "output_type": "stream",
     "text": [
      "(120, 30)\n"
     ]
    }
   ],
   "source": [
    "samples, features = data.shape\n",
    "\n",
    "shuffle_data = df.to_numpy()[:, :-1]\n",
    "np.random.shuffle(shuffle_data)\n",
    "\n",
    "split = int(len(data) * 0.8)\n",
    "\n",
    "train_data = shuffle_data[:split]\n",
    "test_data = shuffle_data[split:]\n",
    "\n",
    "print((len(train_data), len(test_data)))"
   ]
  },
  {
   "cell_type": "markdown",
   "id": "1b9f2c55",
   "metadata": {},
   "source": [
    "### Utils"
   ]
  },
  {
   "cell_type": "code",
   "execution_count": 50,
   "id": "5afe21d5",
   "metadata": {},
   "outputs": [],
   "source": [
    "def get_accuracy(confusion_matrix):\n",
    "    t = np.sum([ confusion_matrix[i, i] for i in range(len(confusion_matrix)) ])\n",
    "    f = np.sum(confusion_matrix)\n",
    "    return t/f"
   ]
  },
  {
   "cell_type": "markdown",
   "id": "8ee79810",
   "metadata": {},
   "source": [
    "### Implementação"
   ]
  },
  {
   "cell_type": "code",
   "execution_count": 51,
   "id": "546e26e1",
   "metadata": {},
   "outputs": [],
   "source": [
    "def knn(k, data, labels, sample):\n",
    "    distances = np.zeros((len(data), 2))\n",
    "    \n",
    "    for i in range(len(data)):\n",
    "        distances[i] = [i, euclidean_distance(data[i], sample)]\n",
    "        \n",
    "    distances = distances[distances[:, 1].argsort()]\n",
    "    knearest = distances[:k]\n",
    "    \n",
    "    nearest_labels = [ labels[int(neighbor[0])] for neighbor in knearest ]\n",
    "    vals,counts = np.unique(nearest_labels, return_counts=True)\n",
    "    index = np.argmax(counts)\n",
    "    label = vals[index]\n",
    "    \n",
    "    return (knearest, label)\n",
    "    "
   ]
  },
  {
   "cell_type": "markdown",
   "id": "5dceb7a3",
   "metadata": {},
   "source": [
    "### Resultados"
   ]
  },
  {
   "cell_type": "code",
   "execution_count": 52,
   "id": "22871b25",
   "metadata": {},
   "outputs": [],
   "source": [
    "def get_confusion_matrix(k, train_data, test_data):\n",
    "    labels_count = len(np.unique(train_data[:, -1]))\n",
    "    confusion_matrix = np.zeros((labels_count, labels_count))\n",
    "    \n",
    "    for i in range(len(test_data)):\n",
    "        _, label = knn(k, train_data[:, :-1], train_data[:, -1], test_data[i, :-1])\n",
    "        confusion_matrix[test_data[i, -1], label] += 1\n",
    "    \n",
    "    return confusion_matrix"
   ]
  },
  {
   "cell_type": "markdown",
   "id": "671227e7",
   "metadata": {},
   "source": [
    "#### K = 2"
   ]
  },
  {
   "cell_type": "code",
   "execution_count": 53,
   "id": "21d5bcb9",
   "metadata": {},
   "outputs": [
    {
     "name": "stdout",
     "output_type": "stream",
     "text": [
      "[[10.  0.  0.]\n",
      " [ 0.  9.  1.]\n",
      " [ 0.  1.  9.]]\n",
      "Acurácia: 0.9333333333333333\n"
     ]
    }
   ],
   "source": [
    "confusion_k2 = get_confusion_matrix(2, train_data, test_data)\n",
    "accuracy_k2 = get_accuracy(confusion_k2)\n",
    "print(confusion_k2)\n",
    "print(f'Acurácia: {accuracy_k2}')"
   ]
  },
  {
   "cell_type": "markdown",
   "id": "8f5354df",
   "metadata": {},
   "source": [
    "#### K = 8"
   ]
  },
  {
   "cell_type": "code",
   "execution_count": 54,
   "id": "45da08da",
   "metadata": {},
   "outputs": [
    {
     "name": "stdout",
     "output_type": "stream",
     "text": [
      "[[10.  0.  0.]\n",
      " [ 0.  9.  1.]\n",
      " [ 0.  1.  9.]]\n",
      "Acurácia: 0.9333333333333333\n"
     ]
    }
   ],
   "source": [
    "confusion_k8 = get_confusion_matrix(8, train_data, test_data)\n",
    "accuracy_k8 = get_accuracy(confusion_k8)\n",
    "print(confusion_k8)\n",
    "print(f'Acurácia: {accuracy_k8}')"
   ]
  },
  {
   "cell_type": "markdown",
   "id": "9e13516e",
   "metadata": {},
   "source": [
    "#### K = 32"
   ]
  },
  {
   "cell_type": "code",
   "execution_count": 57,
   "id": "1f6e9b11",
   "metadata": {},
   "outputs": [
    {
     "name": "stdout",
     "output_type": "stream",
     "text": [
      "[[10.  0.  0.]\n",
      " [ 0.  9.  1.]\n",
      " [ 0.  1.  9.]]\n",
      "Acurácia: 0.9333333333333333\n"
     ]
    }
   ],
   "source": [
    "confusion_k32 = get_confusion_matrix(32, train_data, test_data)\n",
    "accuracy_k32 = get_accuracy(confusion_k32)\n",
    "print(confusion_k32)\n",
    "print(f'Acurácia: {accuracy_k32}')"
   ]
  },
  {
   "cell_type": "markdown",
   "id": "7312e9e3",
   "metadata": {},
   "source": [
    "#### K = 64"
   ]
  },
  {
   "cell_type": "code",
   "execution_count": 59,
   "id": "ed60fd6f",
   "metadata": {},
   "outputs": [
    {
     "name": "stdout",
     "output_type": "stream",
     "text": [
      "[[10.  0.  0.]\n",
      " [ 0. 10.  0.]\n",
      " [ 0.  4.  6.]]\n",
      "Acurácia: 0.8666666666666667\n"
     ]
    }
   ],
   "source": [
    "confusion_k64 = get_confusion_matrix(64, train_data, test_data)\n",
    "accuracy_k64 = get_accuracy(confusion_k64)\n",
    "print(confusion_k64)\n",
    "print(f'Acurácia: {accuracy_k64}')"
   ]
  },
  {
   "cell_type": "code",
   "execution_count": null,
   "id": "935833f6",
   "metadata": {},
   "outputs": [],
   "source": []
  }
 ],
 "metadata": {
  "kernelspec": {
   "display_name": "Python 3 (ipykernel)",
   "language": "python",
   "name": "python3"
  },
  "language_info": {
   "codemirror_mode": {
    "name": "ipython",
    "version": 3
   },
   "file_extension": ".py",
   "mimetype": "text/x-python",
   "name": "python",
   "nbconvert_exporter": "python",
   "pygments_lexer": "ipython3",
   "version": "3.10.4"
  }
 },
 "nbformat": 4,
 "nbformat_minor": 5
}
